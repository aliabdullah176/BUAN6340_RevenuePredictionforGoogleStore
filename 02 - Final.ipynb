{
 "cells": [
  {
   "attachments": {
    "flowchart.png": {
     "image/png": "[encoded data removed]"
    }
   },
   "cell_type": "markdown",
   "metadata": {},
   "source": [
    "# Part 1: \n",
    "In your project you have been working with a bias dataset. Most probabely suupervised models were underfit. You should remember that this is a real dataset, and in real life most of the time you dont have access to clean and unbias dataset. In situations like this, none of the regression models will have a good fit for the dataset due to the large predence of the 0s. In the first part of this take-home exam, you are asked to be creative, and find a solution for this problem. \n",
    "\n",
    "For this dataset, you can break the problem, into a two-step machine learning model. \n",
    "\n",
    "First step is to classify the data points as positive revenue and zero revenue. This simply is a binary classification. You should remember that when you are dealing with biased datasets, accuracy is not a reliable scoring metric. So look for a robust scoring function. \n",
    "\n",
    "Next, you need to build a regression model to postprocess classification results. Here is a flow chart to show you the outline of the model. \n",
    "\n",
    "![flowchart.png](attachment:flowchart.png)"
   ]
  },
  {
   "cell_type": "code",
   "execution_count": 1,
   "metadata": {},
   "outputs": [],
   "source": [
    "## importing libraries\n",
    "import pandas as pd\n",
    "import numpy as np\n",
    "import os\n",
    "import sklearn as sk\n",
    "import matplotlib.pyplot as plt\n",
    "from pandas.io.json import json_normalize\n",
    "import simplejson as json\n",
    "plt.style.use('dark_background')\n",
    "import datetime\n",
    "import time\n",
    "from sklearn.linear_model import LogisticRegression\n",
    "## Easing the limits on the number of output columns and rows shown because the dataset is massive \n",
    "## and we will sometimes need to take a closer look at the data structure.\n",
    "pd.set_option('display.max_columns', None)\n",
    "pd.set_option('display.max_rows', 500)"
   ]
  },
  {
   "cell_type": "code",
   "execution_count": 2,
   "metadata": {},
   "outputs": [],
   "source": [
    "from sklearn.metrics import mean_squared_error, make_scorer, confusion_matrix, accuracy_score, precision_score, roc_auc_score\n",
    "from sklearn.linear_model import Ridge\n",
    "from sklearn.tree import DecisionTreeRegressor\n",
    "from sklearn import preprocessing\n",
    "from sklearn.cluster import KMeans\n",
    "from scipy.stats import randint as sp_randint\n",
    "from sklearn.model_selection import RandomizedSearchCV, validation_curve, train_test_split, GridSearchCV\n",
    "from scipy.spatial.distance import cdist\n",
    "pd.set_option('display.float_format', lambda x: '%.3f' % x)\n",
    "from sklearn.mixture import GaussianMixture\n",
    "from sklearn.decomposition import PCA, FastICA\n",
    "from sklearn.linear_model import LogisticRegression\n",
    "\n",
    "def rmse(y, y_pred):\n",
    "    return np.sqrt(np.mean((y_pred - y)**2))"
   ]
  },
  {
   "cell_type": "code",
   "execution_count": 3,
   "metadata": {},
   "outputs": [],
   "source": [
    "## defining the functions that will extract the values out of json-like columns\n",
    "\n",
    "def todict(dic, key, value):\n",
    "    if key in dic:\n",
    "        dic[key].append(value)\n",
    "    else:\n",
    "        dic[key] = [value]\n",
    "    return dic\n",
    "\n",
    "def resolve_json(hitsdic, hits_json, key='NoneName'):\n",
    "    if type(hits_json) == list:\n",
    "        if len(hits_json) == 0:\n",
    "            pass\n",
    "        else:\n",
    "            for subjson in hits_json:\n",
    "                hitsdic = resolve_json(hitsdic, subjson)\n",
    "    elif type(hits_json) == dict:\n",
    "        for i in hits_json.keys():\n",
    "            hitsdic = resolve_json(hitsdic, hits_json[i],i)\n",
    "    else:\n",
    "        hitsdic = todict(hitsdic, key, hits_json)\n",
    "    return hitsdic\n",
    "\n",
    "def complex_replace(x):\n",
    "    dic = {}\n",
    "    return resolve_json(dic, json.loads(x.replace('\\'','\\\"'). \\\n",
    "                                        replace('TRUE','true'). \\\n",
    "                                        replace('True','true'). \\\n",
    "                                        replace('FALSE','false'). \\\n",
    "                                        replace('False','false'). \\\n",
    "                                        replace(', \\\"',', !&~'). \\\n",
    "                                        replace('\\\", ','!&~, '). \\\n",
    "                                        replace('\\\": ','!&~: '). \\\n",
    "                                        replace(': \\\"',': !&~'). \\\n",
    "                                        replace(' {\\\"',' {!&~'). \\\n",
    "                                        replace('\\\"}, ','!&~}, '). \\\n",
    "                                        replace('[{\\\"','[{!&~'). \\\n",
    "                                        replace('\\\"}]','!&~}]'). \\\n",
    "                                        replace('\\\"','_'). \\\n",
    "                                        replace('!&~','\\\"'). \\\n",
    "                                        encode('gbk','ignore'). \\\n",
    "                                        decode('utf-8','ignore'). \\\n",
    "                                        replace('\\\\','')))\n",
    "\n",
    "\n",
    "def replace(x):\n",
    "    return  json.loads(x.replace('\\'','\\\"').replace('False', 'false').replace('True','true'))\n"
   ]
  },
  {
   "cell_type": "code",
   "execution_count": 4,
   "metadata": {},
   "outputs": [],
   "source": [
    "data = pd.read_csv('data.csv',dtype={'fullVisitorId': 'str'})\n",
    "traf_cols = pd.DataFrame(json_normalize(data['trafficSource'].apply(eval))[[\"medium\",\"source\"]])\n",
    "geo_cols = pd.DataFrame(pd.io.json.json_normalize(data[\"geoNetwork\"].apply(eval))[[\"country\",\"continent\"]])\n",
    "dev_cols = pd.DataFrame(pd.io.json.json_normalize(data[\"device\"].apply(eval))[[\"browser\",\"deviceCategory\",\"operatingSystem\"]])"
   ]
  },
  {
   "cell_type": "code",
   "execution_count": 5,
   "metadata": {},
   "outputs": [],
   "source": [
    "df = pd.DataFrame(pd.concat([data.drop([\"trafficSource\",\"geoNetwork\",\"device\",\"hits\",\"customDimensions\"],axis=1),dev_cols,traf_cols,geo_cols],axis=1,sort=False))\n",
    "df['date2'] = df['date'].apply(lambda x: datetime.datetime.strptime(str(x), \"%Y%m%d\"))\n",
    "df = df.drop([\"socialEngagementType\",\"totals_totalTransactionRevenue\"], axis = 1)\n",
    "df['totals_transactionRevenue'].fillna(0,inplace=True)\n",
    "df['totals_transactions'].fillna(0,inplace=True)\n",
    "df['totals_bounces'].fillna(0,inplace=True)\n",
    "df['totals_newVisits'].fillna(0,inplace=True)\n",
    "df['totals_timeOnSite'].fillna(0,inplace=True)\n",
    "df['totals_pageviews'].fillna(0,inplace=True)"
   ]
  },
  {
   "cell_type": "code",
   "execution_count": 6,
   "metadata": {},
   "outputs": [],
   "source": [
    "## defining the new target variable for the first part of our model.\n",
    "df[\"totals_transactionRevenue_positive\"] = df['totals_transactionRevenue'].apply(lambda x: 1 if x>0 else 0)"
   ]
  },
  {
   "cell_type": "code",
   "execution_count": 7,
   "metadata": {},
   "outputs": [],
   "source": [
    "df2 = df.drop([\"date\",\"fullVisitorId\",\"visitId\",\"visitStartTime\",\"date2\",\"totals_sessionQualityDim\", \"totals_transactions\"],axis=1)"
   ]
  },
  {
   "cell_type": "code",
   "execution_count": 8,
   "metadata": {},
   "outputs": [],
   "source": [
    "#, \"totals_transactions\""
   ]
  },
  {
   "cell_type": "code",
   "execution_count": 9,
   "metadata": {},
   "outputs": [],
   "source": [
    "X = df2.drop([\"totals_transactionRevenue_positive\"], axis=1)\n",
    "y = df2[\"totals_transactionRevenue_positive\"]"
   ]
  },
  {
   "cell_type": "code",
   "execution_count": 10,
   "metadata": {},
   "outputs": [],
   "source": [
    "obj_cols = X.select_dtypes(include=['object'])\n",
    "for col in obj_cols:\n",
    "    X[col] = X[col].astype('category')\n",
    "X = pd.get_dummies(X,drop_first = True)"
   ]
  },
  {
   "cell_type": "code",
   "execution_count": 11,
   "metadata": {},
   "outputs": [],
   "source": [
    "Xtrain, Xtest, ytrain, ytest = train_test_split(X, y, random_state=1)"
   ]
  },
  {
   "cell_type": "code",
   "execution_count": 12,
   "metadata": {},
   "outputs": [],
   "source": [
    "Xtrain2 = Xtrain.drop([\"totals_transactionRevenue\"], axis = 1)\n",
    "Xtest2 = Xtest.drop([\"totals_transactionRevenue\"], axis = 1)"
   ]
  },
  {
   "cell_type": "code",
   "execution_count": 13,
   "metadata": {},
   "outputs": [
    {
     "name": "stderr",
     "output_type": "stream",
     "text": [
      "D:\\Downloads\\software\\Anaconda3\\lib\\site-packages\\sklearn\\preprocessing\\data.py:617: DataConversionWarning: Data with input dtype int64, float64 were all converted to float64 by StandardScaler.\n",
      "  return self.partial_fit(X, y)\n",
      "D:\\Downloads\\software\\Anaconda3\\lib\\site-packages\\ipykernel_launcher.py:3: DataConversionWarning: Data with input dtype int64, float64 were all converted to float64 by StandardScaler.\n",
      "  This is separate from the ipykernel package so we can avoid doing imports until\n",
      "D:\\Downloads\\software\\Anaconda3\\lib\\site-packages\\ipykernel_launcher.py:3: SettingWithCopyWarning: \n",
      "A value is trying to be set on a copy of a slice from a DataFrame.\n",
      "Try using .loc[row_indexer,col_indexer] = value instead\n",
      "\n",
      "See the caveats in the documentation: http://pandas.pydata.org/pandas-docs/stable/indexing.html#indexing-view-versus-copy\n",
      "  This is separate from the ipykernel package so we can avoid doing imports until\n",
      "D:\\Downloads\\software\\Anaconda3\\lib\\site-packages\\pandas\\core\\indexing.py:543: SettingWithCopyWarning: \n",
      "A value is trying to be set on a copy of a slice from a DataFrame.\n",
      "Try using .loc[row_indexer,col_indexer] = value instead\n",
      "\n",
      "See the caveats in the documentation: http://pandas.pydata.org/pandas-docs/stable/indexing.html#indexing-view-versus-copy\n",
      "  self.obj[item] = s\n",
      "D:\\Downloads\\software\\Anaconda3\\lib\\site-packages\\ipykernel_launcher.py:4: DataConversionWarning: Data with input dtype int64, float64 were all converted to float64 by StandardScaler.\n",
      "  after removing the cwd from sys.path.\n",
      "D:\\Downloads\\software\\Anaconda3\\lib\\site-packages\\ipykernel_launcher.py:4: SettingWithCopyWarning: \n",
      "A value is trying to be set on a copy of a slice from a DataFrame.\n",
      "Try using .loc[row_indexer,col_indexer] = value instead\n",
      "\n",
      "See the caveats in the documentation: http://pandas.pydata.org/pandas-docs/stable/indexing.html#indexing-view-versus-copy\n",
      "  after removing the cwd from sys.path.\n",
      "D:\\Downloads\\software\\Anaconda3\\lib\\site-packages\\pandas\\core\\indexing.py:543: SettingWithCopyWarning: \n",
      "A value is trying to be set on a copy of a slice from a DataFrame.\n",
      "Try using .loc[row_indexer,col_indexer] = value instead\n",
      "\n",
      "See the caveats in the documentation: http://pandas.pydata.org/pandas-docs/stable/indexing.html#indexing-view-versus-copy\n",
      "  self.obj[item] = s\n"
     ]
    }
   ],
   "source": [
    "num_cols = ['visitNumber', 'totals_bounces', 'totals_hits', 'totals_newVisits', 'totals_pageviews', 'totals_timeOnSite','totals_visits']\n",
    "scaler = preprocessing.StandardScaler().fit(Xtrain[num_cols])\n",
    "Xtrain[num_cols] = scaler.transform(Xtrain[num_cols])\n",
    "Xtest[num_cols] = scaler.transform(Xtest[num_cols])"
   ]
  },
  {
   "cell_type": "markdown",
   "metadata": {},
   "source": [
    "##### simple logistic regression, we can see that almost everything is predicted as a 0."
   ]
  },
  {
   "cell_type": "code",
   "execution_count": 14,
   "metadata": {},
   "outputs": [
    {
     "name": "stdout",
     "output_type": "stream",
     "text": [
      "tuned hpyerparameters :(best parameters)  {'C': 0.001, 'penalty': 'l2'}\n",
      "accuracy : 0.9904666666666667\n"
     ]
    }
   ],
   "source": [
    "#lr = LogisticRegression(solver=\"liblinear\").fit(Xtrain,ytrain)\n",
    "grid={\"C\":np.logspace(-3,3,7), \"penalty\":[\"l1\",\"l2\"]}# l1 lasso l2 ridge\n",
    "grid_lr = GridSearchCV(LogisticRegression(solver=\"liblinear\", max_iter = 500), grid, cv = 5)\n",
    "grid_lr.fit(Xtrain2,ytrain)\n",
    "\n",
    "print(\"tuned hpyerparameters :(best parameters) \",grid_lr.best_params_)\n",
    "print(\"accuracy :\",grid_lr.best_score_)"
   ]
  },
  {
   "cell_type": "code",
   "execution_count": 15,
   "metadata": {},
   "outputs": [
    {
     "data": {
      "text/plain": [
       "array([[14854,     2],\n",
       "       [  142,     2]], dtype=int64)"
      ]
     },
     "execution_count": 15,
     "metadata": {},
     "output_type": "execute_result"
    }
   ],
   "source": [
    "confusion_matrix(ytrain, grid_lr.predict(Xtrain2))"
   ]
  },
  {
   "cell_type": "code",
   "execution_count": 16,
   "metadata": {},
   "outputs": [
    {
     "data": {
      "text/plain": [
       "array([[4951,    0],\n",
       "       [  49,    0]], dtype=int64)"
      ]
     },
     "execution_count": 16,
     "metadata": {},
     "output_type": "execute_result"
    }
   ],
   "source": [
    "confusion_matrix(ytest, grid_lr.predict(Xtest2))"
   ]
  },
  {
   "cell_type": "markdown",
   "metadata": {},
   "source": [
    "##### We need to use a different scorer. lets try area under the ROC curve first"
   ]
  },
  {
   "cell_type": "code",
   "execution_count": 17,
   "metadata": {},
   "outputs": [
    {
     "name": "stdout",
     "output_type": "stream",
     "text": [
      "tuned hpyerparameters :(best parameters)  {'C': 0.01, 'penalty': 'l1'}\n",
      "ROC : 0.976747054626986\n"
     ]
    }
   ],
   "source": [
    "grid={\"C\":np.logspace(-3,3,7), \"penalty\":[\"l1\",\"l2\"]}# l1 lasso l2 ridge\n",
    "grid_lr_roc = GridSearchCV(LogisticRegression(solver=\"liblinear\",max_iter = 500), grid ,scoring = \"roc_auc\", cv = 5)\n",
    "grid_lr_roc.fit(Xtrain2,ytrain)\n",
    "\n",
    "print(\"tuned hpyerparameters :(best parameters) \",grid_lr_roc.best_params_)\n",
    "print(\"ROC :\",grid_lr_roc.best_score_)"
   ]
  },
  {
   "cell_type": "markdown",
   "metadata": {},
   "source": [
    "##### We can see that we only managed to predict just a few positive class rows correctly"
   ]
  },
  {
   "cell_type": "code",
   "execution_count": 18,
   "metadata": {},
   "outputs": [
    {
     "name": "stderr",
     "output_type": "stream",
     "text": [
      "D:\\Downloads\\software\\Anaconda3\\lib\\site-packages\\sklearn\\metrics\\classification.py:1143: UndefinedMetricWarning: Precision is ill-defined and being set to 0.0 due to no predicted samples.\n",
      "  'precision', 'predicted', average, warn_for)\n",
      "D:\\Downloads\\software\\Anaconda3\\lib\\site-packages\\sklearn\\metrics\\classification.py:1143: UndefinedMetricWarning: Precision is ill-defined and being set to 0.0 due to no predicted samples.\n",
      "  'precision', 'predicted', average, warn_for)\n",
      "D:\\Downloads\\software\\Anaconda3\\lib\\site-packages\\sklearn\\metrics\\classification.py:1143: UndefinedMetricWarning: Precision is ill-defined and being set to 0.0 due to no predicted samples.\n",
      "  'precision', 'predicted', average, warn_for)\n",
      "D:\\Downloads\\software\\Anaconda3\\lib\\site-packages\\sklearn\\metrics\\classification.py:1143: UndefinedMetricWarning: Precision is ill-defined and being set to 0.0 due to no predicted samples.\n",
      "  'precision', 'predicted', average, warn_for)\n",
      "D:\\Downloads\\software\\Anaconda3\\lib\\site-packages\\sklearn\\metrics\\classification.py:1143: UndefinedMetricWarning: Precision is ill-defined and being set to 0.0 due to no predicted samples.\n",
      "  'precision', 'predicted', average, warn_for)\n",
      "D:\\Downloads\\software\\Anaconda3\\lib\\site-packages\\sklearn\\metrics\\classification.py:1143: UndefinedMetricWarning: Precision is ill-defined and being set to 0.0 due to no predicted samples.\n",
      "  'precision', 'predicted', average, warn_for)\n",
      "D:\\Downloads\\software\\Anaconda3\\lib\\site-packages\\sklearn\\metrics\\classification.py:1143: UndefinedMetricWarning: Precision is ill-defined and being set to 0.0 due to no predicted samples.\n",
      "  'precision', 'predicted', average, warn_for)\n",
      "D:\\Downloads\\software\\Anaconda3\\lib\\site-packages\\sklearn\\metrics\\classification.py:1143: UndefinedMetricWarning: Precision is ill-defined and being set to 0.0 due to no predicted samples.\n",
      "  'precision', 'predicted', average, warn_for)\n",
      "D:\\Downloads\\software\\Anaconda3\\lib\\site-packages\\sklearn\\metrics\\classification.py:1143: UndefinedMetricWarning: Precision is ill-defined and being set to 0.0 due to no predicted samples.\n",
      "  'precision', 'predicted', average, warn_for)\n",
      "D:\\Downloads\\software\\Anaconda3\\lib\\site-packages\\sklearn\\metrics\\classification.py:1143: UndefinedMetricWarning: Precision is ill-defined and being set to 0.0 due to no predicted samples.\n",
      "  'precision', 'predicted', average, warn_for)\n",
      "D:\\Downloads\\software\\Anaconda3\\lib\\site-packages\\sklearn\\metrics\\classification.py:1143: UndefinedMetricWarning: Precision is ill-defined and being set to 0.0 due to no predicted samples.\n",
      "  'precision', 'predicted', average, warn_for)\n",
      "D:\\Downloads\\software\\Anaconda3\\lib\\site-packages\\sklearn\\metrics\\classification.py:1143: UndefinedMetricWarning: Precision is ill-defined and being set to 0.0 due to no predicted samples.\n",
      "  'precision', 'predicted', average, warn_for)\n",
      "D:\\Downloads\\software\\Anaconda3\\lib\\site-packages\\sklearn\\metrics\\classification.py:1143: UndefinedMetricWarning: Precision is ill-defined and being set to 0.0 due to no predicted samples.\n",
      "  'precision', 'predicted', average, warn_for)\n",
      "D:\\Downloads\\software\\Anaconda3\\lib\\site-packages\\sklearn\\metrics\\classification.py:1143: UndefinedMetricWarning: Precision is ill-defined and being set to 0.0 due to no predicted samples.\n",
      "  'precision', 'predicted', average, warn_for)\n"
     ]
    },
    {
     "name": "stdout",
     "output_type": "stream",
     "text": [
      "tuned hpyerparameters :(best parameters)  {'C': 1.0, 'penalty': 'l1'}\n",
      "precision : 0.4909121212121212\n"
     ]
    }
   ],
   "source": [
    "grid={\"C\":np.logspace(-3,3,7), \"penalty\":[\"l1\",\"l2\"]}# l1 lasso l2 ridge\n",
    "grid_lr_prec = GridSearchCV(LogisticRegression(solver=\"liblinear\",max_iter = 250), grid ,scoring = \"precision\", cv = 5).fit(Xtrain2,ytrain)\n",
    "\n",
    "print(\"tuned hpyerparameters :(best parameters) \",grid_lr_prec.best_params_)\n",
    "print(\"precision :\",grid_lr_prec.best_score_)"
   ]
  },
  {
   "cell_type": "code",
   "execution_count": 19,
   "metadata": {},
   "outputs": [
    {
     "data": {
      "text/plain": [
       "array([[4946,    5],\n",
       "       [  48,    1]], dtype=int64)"
      ]
     },
     "execution_count": 19,
     "metadata": {},
     "output_type": "execute_result"
    }
   ],
   "source": [
    "confusion_matrix(ytest, grid_lr_roc.predict(Xtest2))"
   ]
  },
  {
   "cell_type": "code",
   "execution_count": 20,
   "metadata": {},
   "outputs": [
    {
     "data": {
      "text/plain": [
       "array([[4946,    5],\n",
       "       [  46,    3]], dtype=int64)"
      ]
     },
     "execution_count": 20,
     "metadata": {},
     "output_type": "execute_result"
    }
   ],
   "source": [
    "confusion_matrix(ytest, grid_lr_prec.predict(Xtest2))"
   ]
  },
  {
   "cell_type": "markdown",
   "metadata": {},
   "source": [
    "##### Making the model maximize precision didnt help that much over maximizing AUC. Thats a bummer "
   ]
  },
  {
   "cell_type": "code",
   "execution_count": 21,
   "metadata": {},
   "outputs": [
    {
     "data": {
      "text/plain": [
       "array([[4946,    5],\n",
       "       [  46,    3]], dtype=int64)"
      ]
     },
     "execution_count": 21,
     "metadata": {},
     "output_type": "execute_result"
    }
   ],
   "source": [
    "confusion_matrix(ytest, grid_lr_prec.predict(Xtest2))"
   ]
  },
  {
   "cell_type": "code",
   "execution_count": 22,
   "metadata": {},
   "outputs": [
    {
     "data": {
      "text/plain": [
       "0.9898"
      ]
     },
     "execution_count": 22,
     "metadata": {},
     "output_type": "execute_result"
    }
   ],
   "source": [
    "lr_prec_acc = accuracy_score(ytest,grid_lr_prec.predict(Xtest2))\n",
    "lr_prec_acc"
   ]
  },
  {
   "cell_type": "markdown",
   "metadata": {},
   "source": [
    "##### Trying a boosting algorithm to see if it can improve our model. Boosting weighs the hard-to-classify rows more than others so perhaps it can classify the positive class more accurately"
   ]
  },
  {
   "cell_type": "code",
   "execution_count": 23,
   "metadata": {},
   "outputs": [],
   "source": [
    "from sklearn.ensemble import AdaBoostClassifier\n",
    "from sklearn.tree import DecisionTreeClassifier"
   ]
  },
  {
   "cell_type": "code",
   "execution_count": 24,
   "metadata": {},
   "outputs": [],
   "source": [
    "param_grid = {\"n_estimators\": [50,250,300,350,500],\n",
    "              \"learning_rate\": [0.001,0.01,0.1,1,2]}\n",
    "# run grid search\n",
    "DTC = DecisionTreeClassifier(random_state = 1, max_depth = 296)\n",
    "bdt = AdaBoostClassifier(base_estimator = DTC)\n",
    "#grid_boost = bdt.fit(Xtrain,ytrain)\n",
    "grid_boost = GridSearchCV(bdt, param_grid=param_grid, scoring = 'precision', cv=5, refit=True).fit(Xtrain2,ytrain)"
   ]
  },
  {
   "cell_type": "markdown",
   "metadata": {},
   "source": [
    "##### well, not the best precision out of all the models. True positive increased but false positives and false negatives also increased"
   ]
  },
  {
   "cell_type": "code",
   "execution_count": 25,
   "metadata": {},
   "outputs": [
    {
     "data": {
      "text/plain": [
       "array([[4912,   39],\n",
       "       [  37,   12]], dtype=int64)"
      ]
     },
     "execution_count": 25,
     "metadata": {},
     "output_type": "execute_result"
    }
   ],
   "source": [
    "confusion_matrix(ytest, grid_boost.predict(Xtest2))"
   ]
  },
  {
   "cell_type": "code",
   "execution_count": 26,
   "metadata": {},
   "outputs": [
    {
     "name": "stdout",
     "output_type": "stream",
     "text": [
      "Precision:  0.28621743867770433\n"
     ]
    }
   ],
   "source": [
    "print(\"Precision: \", grid_boost.best_score_)"
   ]
  },
  {
   "cell_type": "markdown",
   "metadata": {},
   "source": [
    "##### Attempting one last thing. Clustering helped in the project a little bit. lets see if it can improve the results here"
   ]
  },
  {
   "cell_type": "code",
   "execution_count": 27,
   "metadata": {},
   "outputs": [],
   "source": [
    "kmeans = KMeans(n_clusters=6).fit(Xtrain2) \n",
    "Xtrain2[\"cluster\"] = kmeans.predict(Xtrain2)\n",
    "Xtest2[\"cluster\"] = kmeans.predict(Xtest2)\n",
    "#t7 = pd.DataFrame(kmeans.predict(Xtest),ytest)"
   ]
  },
  {
   "cell_type": "markdown",
   "metadata": {},
   "source": [
    "##### training the model with a grid search using precision as the metric and logistic regression as the algorithm with clustering results as a variable"
   ]
  },
  {
   "cell_type": "code",
   "execution_count": 28,
   "metadata": {},
   "outputs": [
    {
     "name": "stderr",
     "output_type": "stream",
     "text": [
      "D:\\Downloads\\software\\Anaconda3\\lib\\site-packages\\sklearn\\metrics\\classification.py:1143: UndefinedMetricWarning: Precision is ill-defined and being set to 0.0 due to no predicted samples.\n",
      "  'precision', 'predicted', average, warn_for)\n",
      "D:\\Downloads\\software\\Anaconda3\\lib\\site-packages\\sklearn\\metrics\\classification.py:1143: UndefinedMetricWarning: Precision is ill-defined and being set to 0.0 due to no predicted samples.\n",
      "  'precision', 'predicted', average, warn_for)\n",
      "D:\\Downloads\\software\\Anaconda3\\lib\\site-packages\\sklearn\\metrics\\classification.py:1143: UndefinedMetricWarning: Precision is ill-defined and being set to 0.0 due to no predicted samples.\n",
      "  'precision', 'predicted', average, warn_for)\n",
      "D:\\Downloads\\software\\Anaconda3\\lib\\site-packages\\sklearn\\metrics\\classification.py:1143: UndefinedMetricWarning: Precision is ill-defined and being set to 0.0 due to no predicted samples.\n",
      "  'precision', 'predicted', average, warn_for)\n",
      "D:\\Downloads\\software\\Anaconda3\\lib\\site-packages\\sklearn\\metrics\\classification.py:1143: UndefinedMetricWarning: Precision is ill-defined and being set to 0.0 due to no predicted samples.\n",
      "  'precision', 'predicted', average, warn_for)\n",
      "D:\\Downloads\\software\\Anaconda3\\lib\\site-packages\\sklearn\\metrics\\classification.py:1143: UndefinedMetricWarning: Precision is ill-defined and being set to 0.0 due to no predicted samples.\n",
      "  'precision', 'predicted', average, warn_for)\n",
      "D:\\Downloads\\software\\Anaconda3\\lib\\site-packages\\sklearn\\metrics\\classification.py:1143: UndefinedMetricWarning: Precision is ill-defined and being set to 0.0 due to no predicted samples.\n",
      "  'precision', 'predicted', average, warn_for)\n",
      "D:\\Downloads\\software\\Anaconda3\\lib\\site-packages\\sklearn\\metrics\\classification.py:1143: UndefinedMetricWarning: Precision is ill-defined and being set to 0.0 due to no predicted samples.\n",
      "  'precision', 'predicted', average, warn_for)\n",
      "D:\\Downloads\\software\\Anaconda3\\lib\\site-packages\\sklearn\\metrics\\classification.py:1143: UndefinedMetricWarning: Precision is ill-defined and being set to 0.0 due to no predicted samples.\n",
      "  'precision', 'predicted', average, warn_for)\n",
      "D:\\Downloads\\software\\Anaconda3\\lib\\site-packages\\sklearn\\metrics\\classification.py:1143: UndefinedMetricWarning: Precision is ill-defined and being set to 0.0 due to no predicted samples.\n",
      "  'precision', 'predicted', average, warn_for)\n",
      "D:\\Downloads\\software\\Anaconda3\\lib\\site-packages\\sklearn\\metrics\\classification.py:1143: UndefinedMetricWarning: Precision is ill-defined and being set to 0.0 due to no predicted samples.\n",
      "  'precision', 'predicted', average, warn_for)\n",
      "D:\\Downloads\\software\\Anaconda3\\lib\\site-packages\\sklearn\\metrics\\classification.py:1143: UndefinedMetricWarning: Precision is ill-defined and being set to 0.0 due to no predicted samples.\n",
      "  'precision', 'predicted', average, warn_for)\n"
     ]
    }
   ],
   "source": [
    "grid={\"C\":np.logspace(-3,3,7), \"penalty\":[\"l1\",\"l2\"]}# l1 lasso l2 ridge\n",
    "grid_lr_prec_kmeans = GridSearchCV(LogisticRegression(solver=\"liblinear\",max_iter = 250), grid ,scoring = \"precision\", cv = 5).fit(Xtrain2,ytrain)"
   ]
  },
  {
   "cell_type": "markdown",
   "metadata": {},
   "source": [
    "##### That didnt help precision too much either"
   ]
  },
  {
   "cell_type": "code",
   "execution_count": 29,
   "metadata": {},
   "outputs": [
    {
     "name": "stdout",
     "output_type": "stream",
     "text": [
      "tuned hpyerparameters :(best parameters)  {'C': 10.0, 'penalty': 'l2'}\n",
      "precision : 0.4809121212121212\n"
     ]
    }
   ],
   "source": [
    "print(\"tuned hpyerparameters :(best parameters) \",grid_lr_prec_kmeans.best_params_)\n",
    "print(\"precision :\",grid_lr_prec_kmeans.best_score_)"
   ]
  },
  {
   "cell_type": "markdown",
   "metadata": {},
   "source": [
    "##### adding a variable which is our model's prediction of whether a row has revenue or not"
   ]
  },
  {
   "cell_type": "code",
   "execution_count": 30,
   "metadata": {},
   "outputs": [],
   "source": [
    "Xtrain2[\"revenue_pred\"] = grid_lr_prec_kmeans.predict(Xtrain2)\n",
    "Xtest2[\"revenue_pred\"] = grid_lr_prec_kmeans.predict(Xtest2)"
   ]
  },
  {
   "cell_type": "markdown",
   "metadata": {},
   "source": [
    "##### Getting back our second dependent variable, which was the actual dollar amount of the revenue"
   ]
  },
  {
   "cell_type": "code",
   "execution_count": 31,
   "metadata": {},
   "outputs": [],
   "source": [
    "ytrain_b = Xtrain[\"totals_transactionRevenue\"]\n",
    "ytest_b = Xtest[\"totals_transactionRevenue\"]"
   ]
  },
  {
   "cell_type": "markdown",
   "metadata": {},
   "source": [
    "##### Dividing the dataset so that we will only be running regression on the model where our previous prediction was for revenue to be non zero"
   ]
  },
  {
   "cell_type": "code",
   "execution_count": 32,
   "metadata": {},
   "outputs": [],
   "source": [
    "Xtrain3 = Xtrain2[Xtrain2[\"revenue_pred\"]==1]\n",
    "ytrain3 = ytrain[Xtrain2[\"revenue_pred\"]==1]\n",
    "ytrain3b = ytrain_b[Xtrain2[\"revenue_pred\"]==1]\n",
    "Xtest3 = Xtest2[Xtest2[\"revenue_pred\"]==1]\n",
    "ytest3 = ytest[Xtest2[\"revenue_pred\"]==1]\n",
    "ytest3b = ytest_b[Xtest2[\"revenue_pred\"]==1]\n",
    "\n",
    "Xtrain4 = Xtrain2[Xtrain2[\"revenue_pred\"]==0]\n",
    "ytrain4b = ytrain_b[Xtrain2[\"revenue_pred\"]==0]\n",
    "Xtest4 = Xtest2[Xtest2[\"revenue_pred\"]==0]\n",
    "ytest4b = ytrain_b[Xtrain2[\"revenue_pred\"]==0]"
   ]
  },
  {
   "cell_type": "markdown",
   "metadata": {},
   "source": [
    "##### Regression model for prediction of how much revenue is in each row"
   ]
  },
  {
   "cell_type": "code",
   "execution_count": 33,
   "metadata": {},
   "outputs": [
    {
     "name": "stdout",
     "output_type": "stream",
     "text": [
      "training RMSE:  123922298.46939747\n",
      "testing RMSE:   365788676.4193102\n",
      "Best alpha parameter:  2.0\n"
     ]
    },
    {
     "name": "stderr",
     "output_type": "stream",
     "text": [
      "D:\\Downloads\\software\\Anaconda3\\lib\\site-packages\\sklearn\\model_selection\\_search.py:841: DeprecationWarning: The default of the `iid` parameter will change from True to False in version 0.22 and will be removed in 0.24. This will change numeric results when test-set sizes are unequal.\n",
      "  DeprecationWarning)\n"
     ]
    }
   ],
   "source": [
    "alphas = np.array([2,1,0.1,0.01,0.001,0.0001]) # alpha parameters to test in grid search\n",
    "# Grid Search for Algorithm Tuning\n",
    "grid_ridge = GridSearchCV(cv = 5, estimator = Ridge(), scoring = make_scorer(rmse, greater_is_better = False), param_grid = dict(alpha = alphas)).fit(Xtrain3, ytrain3b)\n",
    "print(\"training RMSE: \", rmse(ytrain3b, grid_ridge.predict(Xtrain3)))\n",
    "print(\"testing RMSE:  \", rmse(ytest3b, grid_ridge.predict(Xtest3)))\n",
    "print(\"Best alpha parameter: \", grid_ridge.best_estimator_.alpha)"
   ]
  },
  {
   "cell_type": "markdown",
   "metadata": {},
   "source": [
    "##### making prediction of how much revenue is for each row"
   ]
  },
  {
   "cell_type": "code",
   "execution_count": 34,
   "metadata": {
    "scrolled": true
   },
   "outputs": [
    {
     "name": "stderr",
     "output_type": "stream",
     "text": [
      "D:\\Downloads\\software\\Anaconda3\\lib\\site-packages\\ipykernel_launcher.py:1: SettingWithCopyWarning: \n",
      "A value is trying to be set on a copy of a slice from a DataFrame.\n",
      "Try using .loc[row_indexer,col_indexer] = value instead\n",
      "\n",
      "See the caveats in the documentation: http://pandas.pydata.org/pandas-docs/stable/indexing.html#indexing-view-versus-copy\n",
      "  \"\"\"Entry point for launching an IPython kernel.\n",
      "D:\\Downloads\\software\\Anaconda3\\lib\\site-packages\\ipykernel_launcher.py:2: SettingWithCopyWarning: \n",
      "A value is trying to be set on a copy of a slice from a DataFrame.\n",
      "Try using .loc[row_indexer,col_indexer] = value instead\n",
      "\n",
      "See the caveats in the documentation: http://pandas.pydata.org/pandas-docs/stable/indexing.html#indexing-view-versus-copy\n",
      "  \n"
     ]
    }
   ],
   "source": [
    "Xtest3[\"revenue_pred2\"] = grid_ridge.predict(Xtest3)\n",
    "Xtrain3[\"revenue_pred2\"] = grid_ridge.predict(Xtrain3)"
   ]
  },
  {
   "cell_type": "markdown",
   "metadata": {},
   "source": [
    "##### putting revenue to be zero in rows where our classification model indicated zero-revenue instances"
   ]
  },
  {
   "cell_type": "code",
   "execution_count": 35,
   "metadata": {},
   "outputs": [
    {
     "name": "stderr",
     "output_type": "stream",
     "text": [
      "D:\\Downloads\\software\\Anaconda3\\lib\\site-packages\\ipykernel_launcher.py:1: SettingWithCopyWarning: \n",
      "A value is trying to be set on a copy of a slice from a DataFrame.\n",
      "Try using .loc[row_indexer,col_indexer] = value instead\n",
      "\n",
      "See the caveats in the documentation: http://pandas.pydata.org/pandas-docs/stable/indexing.html#indexing-view-versus-copy\n",
      "  \"\"\"Entry point for launching an IPython kernel.\n",
      "D:\\Downloads\\software\\Anaconda3\\lib\\site-packages\\ipykernel_launcher.py:2: SettingWithCopyWarning: \n",
      "A value is trying to be set on a copy of a slice from a DataFrame.\n",
      "Try using .loc[row_indexer,col_indexer] = value instead\n",
      "\n",
      "See the caveats in the documentation: http://pandas.pydata.org/pandas-docs/stable/indexing.html#indexing-view-versus-copy\n",
      "  \n"
     ]
    }
   ],
   "source": [
    "Xtrain4[\"revenue_pred2\"] = 0\n",
    "Xtest4[\"revenue_pred2\"] = 0"
   ]
  },
  {
   "cell_type": "markdown",
   "metadata": {},
   "source": [
    "##### Aggregating back the datasets to get one final RMSE value"
   ]
  },
  {
   "cell_type": "code",
   "execution_count": 36,
   "metadata": {},
   "outputs": [],
   "source": [
    "Xtrain5 = Xtrain4.append(Xtrain3)\n",
    "Xtest5 = Xtest4.append(Xtest3)\n",
    "ytrain5b = ytrain4b.append(ytrain3b)\n",
    "ytest5b = ytest4b.append(ytest3b)"
   ]
  },
  {
   "cell_type": "markdown",
   "metadata": {},
   "source": [
    "##### building a small df to store rmse values. rmse for models in the project copied as is"
   ]
  },
  {
   "cell_type": "code",
   "execution_count": 37,
   "metadata": {},
   "outputs": [
    {
     "data": {
      "text/html": [
       "<div>\n",
       "<style scoped>\n",
       "    .dataframe tbody tr th:only-of-type {\n",
       "        vertical-align: middle;\n",
       "    }\n",
       "\n",
       "    .dataframe tbody tr th {\n",
       "        vertical-align: top;\n",
       "    }\n",
       "\n",
       "    .dataframe thead th {\n",
       "        text-align: right;\n",
       "    }\n",
       "</style>\n",
       "<table border=\"1\" class=\"dataframe\">\n",
       "  <thead>\n",
       "    <tr style=\"text-align: right;\">\n",
       "      <th></th>\n",
       "      <th>model</th>\n",
       "      <th>TrainRMSE</th>\n",
       "      <th>TestRMSE</th>\n",
       "    </tr>\n",
       "  </thead>\n",
       "  <tbody>\n",
       "    <tr>\n",
       "      <th>0</th>\n",
       "      <td>Ridge Regression</td>\n",
       "      <td>16930090.156</td>\n",
       "      <td>15204106.573</td>\n",
       "    </tr>\n",
       "    <tr>\n",
       "      <th>1</th>\n",
       "      <td>Logistic + Ridge</td>\n",
       "      <td>19158347.173</td>\n",
       "      <td>365788676.419</td>\n",
       "    </tr>\n",
       "  </tbody>\n",
       "</table>\n",
       "</div>"
      ],
      "text/plain": [
       "              model    TrainRMSE      TestRMSE\n",
       "0  Ridge Regression 16930090.156  15204106.573\n",
       "1  Logistic + Ridge 19158347.173 365788676.419"
      ]
     },
     "execution_count": 37,
     "metadata": {},
     "output_type": "execute_result"
    }
   ],
   "source": [
    "acc = pd.DataFrame()\n",
    "acc['model'] = [\"Ridge Regression\",\"Logistic + Ridge\"]\n",
    "acc['TrainRMSE'] = [ 16930090.156, rmse(Xtrain5[\"revenue_pred2\"],ytrain5b)  ]\n",
    "acc['TestRMSE'] = [  15204106.573, rmse(Xtest5[\"revenue_pred2\"],ytest5b) ]\n",
    "acc"
   ]
  },
  {
   "cell_type": "markdown",
   "metadata": {},
   "source": [
    "##### We can see that test RMSE has gone really bad after this 2 stage model. The reason is the bad predictive power of the logistic model itself. Because it classifies almost all of the non-zero revenue rows as zero-revenue, the rmse shoots up dramatically"
   ]
  },
  {
   "cell_type": "code",
   "execution_count": 38,
   "metadata": {},
   "outputs": [
    {
     "data": {
      "image/png": "[encoded data removed]",
      "text/plain": [
       "<Figure size 1008x288 with 1 Axes>"
      ]
     },
     "metadata": {
      "needs_background": "dark"
     },
     "output_type": "display_data"
    }
   ],
   "source": [
    "fig, ax = plt.subplots(1,1, figsize=(14,4))\n",
    "ax.ticklabel_format(style=\"plain\", useOffset=False)\n",
    "ax.bar(acc.model,acc.TrainRMSE, color = 'white', label = \"Train RMSE\")\n",
    "ax.plot(acc.model, acc.TestRMSE, color='blue', label='Test RMSE')\n",
    "plt.legend(loc='best')\n",
    "plt.xlabel('Models')\n",
    "plt.ylabel('RMSE');"
   ]
  },
  {
   "attachments": {},
   "cell_type": "markdown",
   "metadata": {},
   "source": [
    "# Part 2\n",
    "In this part you will create a Python function ``plot_decision_boundary`` that will accepts a machine learning model, feature set ``X``, and target set ``y`` as input and will plot the decision boundary of the input machine learning model  on ``(X,y)``. The following is a sample run of this function: "
   ]
  },
  {
   "cell_type": "code",
   "execution_count": 39,
   "metadata": {},
   "outputs": [],
   "source": [
    "def plot_decision_boundary(X, y, clf):\n",
    "    reduced_data = X[:, :2]\n",
    "    model = clf\n",
    "    model.fit(reduced_data, y)\n",
    "    markers = [\"o\" , \"^\" , \"x\" , \"v\" , \"^\" , \"<\", \">\"]\n",
    "    colors = [\"black\",\"darkred\",\"#FF2D00\"]\n",
    "    marks = []\n",
    "    for i in range(0,len(y)):\n",
    "        marks.append(markers[y[i]])\n",
    "    # Step size of the mesh. Decrease to increase the quality of the VQ.\n",
    "    h = .01     # point in the mesh [x_min, m_max]x[y_min, y_max].    \n",
    "\n",
    "    # Plot the decision boundary. For that, we will assign a color to each\n",
    "    x_min, x_max = reduced_data[:, 0].min() - 1, reduced_data[:, 0].max() + 1\n",
    "    y_min, y_max = reduced_data[:, 1].min() - 1, reduced_data[:, 1].max() + 1\n",
    "    xx, yy = np.meshgrid(np.arange(x_min, x_max, h), np.arange(y_min, y_max, h))\n",
    "\n",
    "    # Obtain labels for each point in mesh using the model.\n",
    "    Z = model.predict(np.c_[xx.ravel(), yy.ravel()])    \n",
    "\n",
    "    x_min, x_max = X[:, 0].min() - 1, X[:, 0].max() + 1\n",
    "    y_min, y_max = X[:, 1].min() - 1, X[:, 1].max() + 1\n",
    "    xx, yy = np.meshgrid(np.arange(x_min, x_max, 0.1),\n",
    "                         np.arange(y_min, y_max, 0.1))\n",
    "\n",
    "    Z = model.predict(np.c_[xx.ravel(), yy.ravel()]).reshape(xx.shape)\n",
    "#    sns.scatterplot(X[:, 0], X[:, 1], markers=[\"o\", \"x\", \"1\"], hue = y)\n",
    "    plt.figure(figsize= (8,8))\n",
    "    plt.contourf(xx, yy, Z, alpha=0.25);\n",
    "    plt.xlabel('sepal length [cm]')\n",
    "    plt.ylabel('petal length [cm]')\n",
    "    plt.title('Decicion boundary of chosen ML model on Iris dataset')\n",
    "    \n",
    "    for i in range(0,len(np.unique(y))):\n",
    "        plt.scatter(X[y==i][:, 0], X[y==i][:, 1], c=colors[i], alpha=1, marker=markers[i])\n",
    "    plt.legend(loc=\"best\")\n",
    "    return plt"
   ]
  },
  {
   "cell_type": "code",
   "execution_count": 40,
   "metadata": {},
   "outputs": [
    {
     "name": "stderr",
     "output_type": "stream",
     "text": [
      "D:\\Downloads\\software\\Anaconda3\\lib\\site-packages\\sklearn\\linear_model\\logistic.py:432: FutureWarning: Default solver will be changed to 'lbfgs' in 0.22. Specify a solver to silence this warning.\n",
      "  FutureWarning)\n",
      "D:\\Downloads\\software\\Anaconda3\\lib\\site-packages\\sklearn\\linear_model\\logistic.py:459: FutureWarning: Default multi_class will be changed to 'auto' in 0.22. Specify the multi_class option to silence this warning.\n",
      "  \"this warning.\", FutureWarning)\n",
      "D:\\Downloads\\software\\Anaconda3\\lib\\site-packages\\sklearn\\linear_model\\logistic.py:432: FutureWarning: Default solver will be changed to 'lbfgs' in 0.22. Specify a solver to silence this warning.\n",
      "  FutureWarning)\n",
      "D:\\Downloads\\software\\Anaconda3\\lib\\site-packages\\sklearn\\linear_model\\logistic.py:459: FutureWarning: Default multi_class will be changed to 'auto' in 0.22. Specify the multi_class option to silence this warning.\n",
      "  \"this warning.\", FutureWarning)\n",
      "No handles with labels found to put in legend.\n"
     ]
    },
    {
     "data": {
      "text/plain": [
       "<module 'matplotlib.pyplot' from 'D:\\\\Downloads\\\\software\\\\Anaconda3\\\\lib\\\\site-packages\\\\matplotlib\\\\pyplot.py'>"
      ]
     },
     "execution_count": 40,
     "metadata": {},
     "output_type": "execute_result"
    },
    {
     "data": {
      "image/png": "[encoded data removed]",
      "text/plain": [
       "<Figure size 576x576 with 1 Axes>"
      ]
     },
     "metadata": {},
     "output_type": "display_data"
    }
   ],
   "source": [
    "from sklearn import datasets\n",
    "from sklearn.svm import SVC\n",
    "import seaborn as sns\n",
    "sns.set()\n",
    "\n",
    "iris = datasets.load_iris()\n",
    "X = iris.data[:, [0, 2]]\n",
    "y = iris.target\n",
    "\n",
    "# Training a classifier\n",
    "svm = SVC(kernel='rbf')\n",
    "svm = LogisticRegression() #### <<< Comment out this line if you want to see radial kernel svm classifier\n",
    "svm.fit(X, y)\n",
    "\n",
    "# not sure why legend is not working\n",
    "plot_decision_boundary(X, y, clf=svm)"
   ]
  }
 ],
 "metadata": {
  "kernelspec": {
   "display_name": "Python 3",
   "language": "python",
   "name": "python3"
  },
  "language_info": {
   "codemirror_mode": {
    "name": "ipython",
    "version": 3
   },
   "file_extension": ".py",
   "mimetype": "text/x-python",
   "name": "python",
   "nbconvert_exporter": "python",
   "pygments_lexer": "ipython3",
   "version": "3.6.7"
  }
 },
 "nbformat": 4,
 "nbformat_minor": 2
}
